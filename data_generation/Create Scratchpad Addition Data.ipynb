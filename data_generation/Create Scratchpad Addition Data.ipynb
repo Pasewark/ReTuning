{
 "cells": [
  {
   "cell_type": "code",
   "execution_count": 1,
   "id": "51d68aa0",
   "metadata": {},
   "outputs": [
    {
     "name": "stdout",
     "output_type": "stream",
     "text": [
      "([['1', '1', '0'], ['2', '1', '00'], ['3', '1', '000'], ['4', '1', '0000']], '9999', '0001')\n",
      "('9999 + 0001\\nSolution: ', 'Carry 1, Output 0\\nCarry 1, Output 00\\nCarry 1, Output 000\\nCarry 1, Output 0000')\n"
     ]
    }
   ],
   "source": [
    "def process_of_addition(num1, num2):\n",
    "    num1_str, num2_str = str(num1), str(num2)\n",
    "    max_len = max(len(num1_str), len(num2_str))\n",
    "\n",
    "    # Adding leading zeros to make both numbers of equal length\n",
    "    num1_str = num1_str.zfill(max_len)\n",
    "    num2_str = num2_str.zfill(max_len)\n",
    "\n",
    "    carry = 0\n",
    "    current_sum = ''  # Initialize as an empty string\n",
    "    result = []  # Initial state\n",
    "\n",
    "    for i in range(max_len - 1, -1, -1):  # From rightmost digit to leftmost\n",
    "        temp_sum = int(num1_str[i]) + int(num2_str[i]) + carry\n",
    "        carry = 1 if temp_sum >= 10 else 0  # Update carry\n",
    "\n",
    "        # Update current sum as a string, adding a new digit to the end\n",
    "        current_sum = str(temp_sum % 10) + current_sum\n",
    "\n",
    "        # Add the current state to the result\n",
    "        result.append([str(max_len - i), str(carry), current_sum.zfill(max_len - i)])\n",
    "\n",
    "    return result,num1_str,num2_str\n",
    "\n",
    "def get_outputs(num1, num2):\n",
    "    ls,num1_str,num2_str=process_of_addition(num1, num2)\n",
    "    template='Carry {}, Output {}'\n",
    "    ret_ls=[template.format(out[1],out[2]) for out in ls]\n",
    "    ret='\\n'.join(ret_ls)#+'\\nAnswer: '+str(num1+num2)\n",
    "    prompt='{} + {}\\nSolution: '.format(num1_str,num2_str)\n",
    "    return prompt,ret\n",
    "    \n",
    "\n",
    "# Test the function\n",
    "print(process_of_addition(9999, 1))\n",
    "print(get_outputs(9999,1))"
   ]
  },
  {
   "cell_type": "code",
   "execution_count": 2,
   "id": "8d674dc7",
   "metadata": {},
   "outputs": [
    {
     "name": "stdout",
     "output_type": "stream",
     "text": [
      "Addition: 304000\n"
     ]
    }
   ],
   "source": [
    "import random\n",
    "pairs = \\\n",
    "[(random.randint(10**(i-1), 10**i), random.randint(10**(j-1), 10**j)) for i in range(1,16) for j in range(i,16) for k in range(1000)] +\\\n",
    "[(random.randint(10**(i-1), 10**i), random.randint(10**(j-1), 10**j)) for i in range(3,16) for j in range(i,16) for k in range(1000)] +\\\n",
    "[(random.randint(10**(i-1), 10**i), random.randint(10**(j-1), 10**j)) for i in range(6,16) for j in range(i,16) for k in range(1000)] +\\\n",
    "[(random.randint(10**(i-1), 10**i), random.randint(10**(j-1), 10**j)) for i in range(9,16) for j in range(i,16) for k in range(1000)] +\\\n",
    "[(random.randint(10**(i-1), 10**i), random.randint(10**(j-1), 10**j)) for i in range(12,16) for j in range(i,16) for k in range(1000)] \n",
    "\n",
    "random.shuffle(pairs)\n",
    "\n",
    "print(\"Addition:\", len(pairs))\n",
    "\n",
    "data_add = []\n",
    "\n",
    "for num1, num2 in pairs:\n",
    "    \n",
    "    if random.random()<0.5:\n",
    "        num1, num2 = num2, num1 \n",
    "\n",
    "    answer = num1 + num2\n",
    "    \n",
    "    #question = f\"{num1} + {num2}\" \n",
    "    #output = f\"{num1} + {num2} = {answer}\"\n",
    "    outputs = get_outputs(num1, num2)\n",
    "    \n",
    "    #assert(output.split()[-1] == str(answer))\n",
    "    data_add.append({\"input\": outputs[0], \"output\": outputs[1]})"
   ]
  },
  {
   "cell_type": "code",
   "execution_count": 23,
   "id": "f3fd0fc2",
   "metadata": {},
   "outputs": [],
   "source": [
    "import json\n",
    "with open(\"non_rec_add.json\", \"w\") as f:\n",
    "    json.dump(data_add, f, indent=4)"
   ]
  },
  {
   "cell_type": "code",
   "execution_count": null,
   "id": "7f77f30b",
   "metadata": {},
   "outputs": [],
   "source": []
  }
 ],
 "metadata": {
  "kernelspec": {
   "display_name": "Python 3 (ipykernel)",
   "language": "python",
   "name": "python3"
  },
  "language_info": {
   "codemirror_mode": {
    "name": "ipython",
    "version": 3
   },
   "file_extension": ".py",
   "mimetype": "text/x-python",
   "name": "python",
   "nbconvert_exporter": "python",
   "pygments_lexer": "ipython3",
   "version": "3.10.12"
  }
 },
 "nbformat": 4,
 "nbformat_minor": 5
}
