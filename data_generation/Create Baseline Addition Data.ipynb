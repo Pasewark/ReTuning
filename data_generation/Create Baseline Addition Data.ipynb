{
 "cells": [
  {
   "cell_type": "code",
   "execution_count": 13,
   "metadata": {},
   "outputs": [],
   "source": [
    "import random\n",
    "pairs = \\\n",
    "[(random.randint(10**(i-1), 10**i), random.randint(10**(j-1), 10**j)) for i in range(1,16) for j in range(i,16) for k in range(1000)] +\\\n",
    "[(random.randint(10**(i-1), 10**i), random.randint(10**(j-1), 10**j)) for i in range(3,16) for j in range(i,16) for k in range(1000)] +\\\n",
    "[(random.randint(10**(i-1), 10**i), random.randint(10**(j-1), 10**j)) for i in range(6,16) for j in range(i,16) for k in range(1000)] +\\\n",
    "[(random.randint(10**(i-1), 10**i), random.randint(10**(j-1), 10**j)) for i in range(9,16) for j in range(i,16) for k in range(1000)] +\\\n",
    "[(random.randint(10**(i-1), 10**i), random.randint(10**(j-1), 10**j)) for i in range(12,16) for j in range(i,16) for k in range(1000)] \n",
    "\n",
    "random.shuffle(pairs)"
   ]
  },
  {
   "cell_type": "code",
   "execution_count": 14,
   "metadata": {},
   "outputs": [],
   "source": [
    "baseline_addition_data = []\n",
    "\n",
    "for num1, num2 in pairs:\n",
    "    \n",
    "    target = num1 + num2\n",
    "    num1_str, num2_str = str(num1), str(num2)\n",
    "    max_len = max(len(num1_str), len(num2_str))\n",
    "    \n",
    "    num1_str = num1_str.zfill(max_len)\n",
    "    num2_str = num2_str.zfill(max_len)\n",
    "    \n",
    "    baseline_addition_data.append({\n",
    "        \"input\": f\"{num1_str} + {num2_str}\\nAnswer: \",\n",
    "        \"output\": str(target)\n",
    "    })"
   ]
  },
  {
   "cell_type": "code",
   "execution_count": 16,
   "metadata": {},
   "outputs": [
    {
     "data": {
      "text/plain": [
       "(array([ 14426.,  17396.,  30149.,  30022.,  30007.,  41000.,  41000.,\n",
       "         41000.,  49000.,  49000.,  49000.,  54000.,  54000., 108000.]),\n",
       " array([ 1.,  2.,  3.,  4.,  5.,  6.,  7.,  8.,  9., 10., 11., 12., 13.,\n",
       "        14., 15.]),\n",
       " <BarContainer object of 14 artists>)"
      ]
     },
     "execution_count": 16,
     "metadata": {},
     "output_type": "execute_result"
    },
    {
     "data": {
      "image/png": "[encoded data removed]",
      "text/plain": [
       "<Figure size 640x480 with 1 Axes>"
      ]
     },
     "metadata": {},
     "output_type": "display_data"
    }
   ],
   "source": [
    "import matplotlib.pyplot as plt\n",
    "lengths=[]\n",
    "for pair in pairs:\n",
    "    lengths.append(len(str(pair[0])))\n",
    "    lengths.append(len(str(pair[1])))\n",
    "plt.hist(lengths,bins=14)"
   ]
  },
  {
   "cell_type": "code",
   "execution_count": 15,
   "metadata": {},
   "outputs": [],
   "source": [
    "import json\n",
    "with open(\"baseline_add.json\", \"w\") as f:\n",
    "    json.dump(baseline_addition_data, f, indent=4)"
   ]
  }
 ],
 "metadata": {
  "kernelspec": {
   "display_name": "cse217a",
   "language": "python",
   "name": "python3"
  },
  "language_info": {
   "codemirror_mode": {
    "name": "ipython",
    "version": 3
   },
   "file_extension": ".py",
   "mimetype": "text/x-python",
   "name": "python",
   "nbconvert_exporter": "python",
   "pygments_lexer": "ipython3",
   "version": "3.10.12"
  }
 },
 "nbformat": 4,
 "nbformat_minor": 2
}
