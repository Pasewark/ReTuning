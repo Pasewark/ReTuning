{
 "cells": [
  {
   "cell_type": "code",
   "execution_count": 1,
   "id": "8d50e8bf",
   "metadata": {},
   "outputs": [
    {
     "name": "stdout",
     "output_type": "stream",
     "text": [
      "[['9', '1', '1', '0'], ['99', '01', '1', '00'], ['999', '001', '1', '000'], ['9999', '0001', '1', '0000']]\n"
     ]
    }
   ],
   "source": [
    "def process_of_addition(num1, num2):\n",
    "    num1_str, num2_str = str(num1), str(num2)\n",
    "    max_len = max(len(num1_str), len(num2_str))\n",
    "\n",
    "    # Adding leading zeros to make both numbers of equal length\n",
    "    num1_str = num1_str.zfill(max_len)\n",
    "    num2_str = num2_str.zfill(max_len)\n",
    "\n",
    "    carry = 0\n",
    "    current_sum = ''  # Initialize as an empty string\n",
    "    result = []  # Initial state\n",
    "\n",
    "    for i in range(max_len - 1, -1, -1):  # From rightmost digit to leftmost\n",
    "        temp_sum = int(num1_str[i]) + int(num2_str[i]) + carry\n",
    "        carry = 1 if temp_sum >= 10 else 0  # Update carry\n",
    "\n",
    "        # Update current sum as a string, adding a new digit to the end\n",
    "        current_sum = str(temp_sum % 10) + current_sum\n",
    "\n",
    "        # Add the current state to the result\n",
    "        num1_current = num1_str[i:] if num1_str[i:] else '0'\n",
    "        num2_current = num2_str[i:] if num2_str[i:] else '0'\n",
    "        result.append([num1_current, num2_current, str(carry), current_sum.zfill(max_len - i)])\n",
    "\n",
    "    return result\n",
    "\n",
    "def get_outputs(num1, num2):\n",
    "    ls=process_of_addition(num1, num2)\n",
    "    prompt_template1='{} + {}\\nSolution: '\n",
    "    prompt_template2='{} + {}\\nSolution: Call: {} + {}\\nReturn: Carry {}, Output {}\\nAnswer: '\n",
    "    final_template='Carry {}, Output {}'\n",
    "    inter_template1='Call: {} + {}\\n'\n",
    "    inter_template2='Carry {}, Output {}'\n",
    "    ret_ls=[]\n",
    "    for i in range(len(ls)):\n",
    "        if i==0:\n",
    "            current=ls[0]\n",
    "            ret_ls.append((prompt_template1.format(current[0],current[1]),final_template.format(current[2],current[3])))\n",
    "            continue\n",
    "        current=ls[i]\n",
    "        prev=ls[i-1]\n",
    "        prompt1=prompt_template1.format(current[0],current[1])\n",
    "        output1=inter_template1.format(prev[0],prev[1])\n",
    "        prompt2=prompt_template2.format(current[0],current[1],prev[0],prev[1],prev[2],prev[3])\n",
    "        output2=inter_template2.format(current[2],current[3])\n",
    "        ret_ls.append((prompt1,output1))\n",
    "        ret_ls.append((prompt2,output2))\n",
    "    return ret_ls\n",
    "\n",
    "# Test the function\n",
    "print(process_of_addition(9999, 1))\n"
   ]
  },
  {
   "cell_type": "code",
   "execution_count": 2,
   "id": "531a5767",
   "metadata": {},
   "outputs": [
    {
     "name": "stdout",
     "output_type": "stream",
     "text": [
      "Addition: 304000\n"
     ]
    }
   ],
   "source": [
    "import random\n",
    "pairs = \\\n",
    "[(random.randint(10**(i-1), 10**i), random.randint(10**(j-1), 10**j)) for i in range(1,16) for j in range(i,16) for k in range(1000)] +\\\n",
    "[(random.randint(10**(i-1), 10**i), random.randint(10**(j-1), 10**j)) for i in range(3,16) for j in range(i,16) for k in range(1000)] +\\\n",
    "[(random.randint(10**(i-1), 10**i), random.randint(10**(j-1), 10**j)) for i in range(6,16) for j in range(i,16) for k in range(1000)] +\\\n",
    "[(random.randint(10**(i-1), 10**i), random.randint(10**(j-1), 10**j)) for i in range(9,16) for j in range(i,16) for k in range(1000)] +\\\n",
    "[(random.randint(10**(i-1), 10**i), random.randint(10**(j-1), 10**j)) for i in range(12,16) for j in range(i,16) for k in range(1000)] \n",
    "\n",
    "random.shuffle(pairs)\n",
    "\n",
    "print(\"Addition:\", len(pairs))\n",
    "\n",
    "data_add = []\n",
    "\n",
    "for num1, num2 in pairs:\n",
    "    \n",
    "    if random.random()<0.5:\n",
    "        num1, num2 = num2, num1 \n",
    "\n",
    "    answer = num1 + num2\n",
    "    \n",
    "    outputs = get_outputs(num1, num2)\n",
    "    \n",
    "    for output in outputs:\n",
    "        data_add.append({\"input\": output[0], \"output\": output[1]})"
   ]
  },
  {
   "cell_type": "code",
   "execution_count": 3,
   "id": "ad83cc6c",
   "metadata": {},
   "outputs": [
    {
     "name": "stderr",
     "output_type": "stream",
     "text": [
      "Processing data: 100%|████████████| 6506400/6506400 [00:08<00:00, 808324.37it/s]\n"
     ]
    }
   ],
   "source": [
    "from collections import defaultdict\n",
    "import tqdm\n",
    "data = defaultdict(lambda: defaultdict(list))\n",
    "for i, row in enumerate(tqdm.tqdm(data_add, desc=f'Processing data', disable=False)):\n",
    "    prompt = row['input']\n",
    "    data[prompt]['sft_target'] = row['output']"
   ]
  },
  {
   "cell_type": "code",
   "execution_count": 4,
   "id": "360b456d",
   "metadata": {},
   "outputs": [],
   "source": [
    "import re\n",
    "import matplotlib.pyplot as plt\n",
    "import random\n",
    "\n",
    "def addition_resampler(data_point):\n",
    "    numbers = re.findall(r'\\d+', data_point[0])\n",
    "    num1, num2 = numbers[0], numbers[1]\n",
    "    if len(num1) == 1 and len(num2) == 1:\n",
    "        return [data_point]*1000\n",
    "    if len(num1) + len(num2) <= 3:\n",
    "        return [data_point]*100\n",
    "    if len(num1) <= 2 or len(num2) <= 2:\n",
    "        return [data_point]*5\n",
    "    return [data_point]\n",
    "\n",
    "def resample_point(resampler_str, data_point):\n",
    "    if resampler_str == 'parity':\n",
    "        return parity_resampler(data_point)\n",
    "    elif resampler_str == 'dp':\n",
    "        return dp_resampler(data_point)\n",
    "    elif resampler_str == 'addition':\n",
    "        return addition_resampler(data_point)\n",
    "    else: print('incorrect resampler string')\n",
    "\n",
    "def find_array_length(s):\n",
    "    # Regular expression to find an array pattern\n",
    "    match = re.search(r'\\[(-?\\d+,\\s*)*(-?\\d+)\\]', s)\n",
    "    if match:\n",
    "        # Extracting the array string\n",
    "        array_str = match.group(0)\n",
    "        # Splitting the array string into elements\n",
    "        array_elements = array_str[1:-1].split(',')\n",
    "        return len(array_elements)\n",
    "    else:\n",
    "        return None\n",
    "    \n",
    "def find_int_lengths(s):\n",
    "    numbers = re.findall(r'\\d+', s)\n",
    "    num1, num2 = numbers[0], numbers[1]\n",
    "    return len(str(int(num1))),len(str(int(num2)))"
   ]
  },
  {
   "cell_type": "code",
   "execution_count": 5,
   "id": "5e8cadd7",
   "metadata": {},
   "outputs": [],
   "source": [
    "resampled_data=[]\n",
    "for prompt, dat in data.items():\n",
    "    lens=find_int_lengths(prompt)\n",
    "    if lens[0]==lens[1] and lens[0] in [3,4,5,6,7] and random.random() < .85: continue\n",
    "    if lens[0]==lens[1] and lens[0] in [8,9,10,11] and random.random() < .65: continue\n",
    "    resampled_data.extend(resample_point('addition',(prompt, dat['sft_target'])))"
   ]
  },
  {
   "cell_type": "code",
   "execution_count": 6,
   "id": "eec0b6b3",
   "metadata": {},
   "outputs": [
    {
     "name": "stdout",
     "output_type": "stream",
     "text": [
      "3677455\n"
     ]
    },
    {
     "data": {
      "image/png": "[encoded data removed]",
      "text/plain": [
       "<Figure size 432x288 with 2 Axes>"
      ]
     },
     "metadata": {
      "needs_background": "light"
     },
     "output_type": "display_data"
    }
   ],
   "source": [
    "print(len(resampled_data))\n",
    "lengths2=[]\n",
    "for point in resampled_data:\n",
    "    lengths2.append(find_int_lengths(point[0]))\n",
    "x, y = zip(*lengths2)\n",
    "\n",
    "# Create the 2D histogram\n",
    "plt.hist2d(x, y, bins=(15, 15), range=[[0, 15], [0, 15]])\n",
    "\n",
    "# Adding color bar to the right\n",
    "plt.colorbar()\n",
    "\n",
    "# Adding labels\n",
    "plt.xlabel('X-axis')\n",
    "plt.ylabel('Y-axis')\n",
    "\n",
    "# Show the plot\n",
    "plt.show()"
   ]
  },
  {
   "cell_type": "code",
   "execution_count": 7,
   "id": "7498dc22",
   "metadata": {},
   "outputs": [],
   "source": [
    "resampled_dataset=[]\n",
    "for point in resampled_data:\n",
    "    resampled_dataset.append({'input':point[0],'output':point[1]})"
   ]
  },
  {
   "cell_type": "code",
   "execution_count": 8,
   "id": "24cf2450",
   "metadata": {},
   "outputs": [],
   "source": [
    "import json\n",
    "with open(\"recursive_addition_resampled_test.json\", \"w\") as f:\n",
    "    json.dump(resampled_dataset, f, indent=4)"
   ]
  },
  {
   "cell_type": "code",
   "execution_count": null,
   "id": "39cafa40",
   "metadata": {},
   "outputs": [],
   "source": []
  }
 ],
 "metadata": {
  "kernelspec": {
   "display_name": "Python 3 (ipykernel)",
   "language": "python",
   "name": "python3"
  },
  "language_info": {
   "codemirror_mode": {
    "name": "ipython",
    "version": 3
   },
   "file_extension": ".py",
   "mimetype": "text/x-python",
   "name": "python",
   "nbconvert_exporter": "python",
   "pygments_lexer": "ipython3",
   "version": "3.10.12"
  }
 },
 "nbformat": 4,
 "nbformat_minor": 5
}
