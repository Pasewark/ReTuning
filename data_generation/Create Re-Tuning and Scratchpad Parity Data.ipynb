{
 "cells": [
  {
   "cell_type": "code",
   "execution_count": 1,
   "id": "91c39a00",
   "metadata": {},
   "outputs": [],
   "source": [
    "import random\n",
    "\n",
    "def generate_binary_list(n):\n",
    "    # Generate a list of random 0s and 1s\n",
    "    binary_list = [random.choice([0, 1]) for _ in range(n)]\n",
    "    \n",
    "    # Count the number of 1s\n",
    "    #num_ones = binary_list.count(1)\n",
    "    \n",
    "    return binary_list\n",
    "\n",
    "def process_of_parity(ls):\n",
    "    outputs=[]\n",
    "    for i in range(len(ls)):\n",
    "        outputs.append((ls[i:],ls[i:].count(1)%2))\n",
    "    return outputs\n",
    "\n",
    "def get_outputs(ls):\n",
    "    outputs=process_of_parity(ls)\n",
    "    returns=[]\n",
    "    prompt_template='What is the parity of {}?\\nSolution: '\n",
    "    prompt_template2='\\nReturn: {}\\nAnswer: '\n",
    "    out_template='Call: What is the parity of {}?\\n'\n",
    "    for i in range(len(outputs)):\n",
    "        if i==len(outputs)-1:\n",
    "            prompt=prompt_template.format(outputs[i][0])\n",
    "            out=str(outputs[i][1])\n",
    "            returns.append((prompt,out))\n",
    "            continue\n",
    "        current=outputs[i]\n",
    "        nex=outputs[i+1]\n",
    "        prompt1=prompt_template.format(current[0])\n",
    "        out1=out_template.format(nex[0])\n",
    "        prompt2=prompt1+out1+prompt_template2.format(nex[1])\n",
    "        out2=str(current[1])\n",
    "        returns.append((prompt1,out1))\n",
    "        returns.append((prompt2,out2))\n",
    "    return returns\n",
    "\n",
    "def get_outputs_nonrec(ls):\n",
    "    prompt='What is the parity of {}?\\nSolution: '.format(ls)\n",
    "    output='Compute one element at a time.'\n",
    "    for i in range(len(ls)):\n",
    "        output+=' '+str(ls[:i+1].count(1)%2)\n",
    "    return (prompt,output)"
   ]
  },
  {
   "cell_type": "code",
   "execution_count": 2,
   "id": "9d7a618b",
   "metadata": {},
   "outputs": [
    {
     "name": "stdout",
     "output_type": "stream",
     "text": [
      "10250000\n"
     ]
    }
   ],
   "source": [
    "import itertools\n",
    "\n",
    "num_lists=250000\n",
    "\n",
    "def generate_binary_lists(n):\n",
    "    return [list(map(int, seq)) for seq in itertools.product(\"01\", repeat=n)]\n",
    "\n",
    "\n",
    "binary_lists = generate_binary_lists(21)\n",
    "selected_lists = random.sample(binary_lists, num_lists)\n",
    "\n",
    "dataset=[]\n",
    "for ls in selected_lists:\n",
    "    outputs=get_outputs(ls)\n",
    "    for output in outputs:\n",
    "        dataset.append({'input':output[0],'output':output[1]})\n",
    "        \n",
    "print(len(dataset))"
   ]
  },
  {
   "cell_type": "code",
   "execution_count": 3,
   "id": "4436d285",
   "metadata": {},
   "outputs": [
    {
     "name": "stderr",
     "output_type": "stream",
     "text": [
      "Processing data: 100%|█████████| 10250000/10250000 [00:06<00:00, 1548829.27it/s]\n"
     ]
    }
   ],
   "source": [
    "from collections import defaultdict\n",
    "import tqdm\n",
    "data = defaultdict(lambda: defaultdict(list))\n",
    "for i, row in enumerate(tqdm.tqdm(dataset, desc=f'Processing data', disable=False)):\n",
    "    prompt = row['input']\n",
    "    data[prompt]['sft_target'] = row['output']"
   ]
  },
  {
   "cell_type": "code",
   "execution_count": 4,
   "id": "f514e8c2",
   "metadata": {},
   "outputs": [],
   "source": [
    "import re\n",
    "import matplotlib.pyplot as plt\n",
    "import random\n",
    "\n",
    "def parity_resampler(data_point):\n",
    "    if find_array_length(data_point[0]) == 1:\n",
    "        return [data_point]*450*2\n",
    "    if find_array_length(data_point[0]) == 2:\n",
    "        return [data_point]*120*2\n",
    "    if find_array_length(data_point[0]) == 3:\n",
    "        return [data_point]*50*2\n",
    "    if find_array_length(data_point[0]) == 4:\n",
    "        return [data_point]*25*2\n",
    "    if find_array_length(data_point[0]) == 5:\n",
    "        return [data_point]*12*2\n",
    "    if find_array_length(data_point[0]) == 6:\n",
    "        return [data_point]*6*2\n",
    "    if find_array_length(data_point[0]) == 7:\n",
    "        return [data_point]*3*2\n",
    "    if find_array_length(data_point[0]) == 8:\n",
    "        return [data_point]*2*2\n",
    "    if find_array_length(data_point[0]) == 11:\n",
    "        return [data_point]*2*2\n",
    "    return [data_point]\n",
    "\n",
    "def resample_point(resampler_str, data_point):\n",
    "    if resampler_str == 'parity':\n",
    "        return parity_resampler(data_point)\n",
    "    elif resampler_str == 'dp':\n",
    "        return dp_resampler(data_point)\n",
    "    elif resampler_str == 'addition':\n",
    "        return addition_resampler(data_point)\n",
    "    else: print('incorrect resampler string')\n",
    "\n",
    "def find_array_length(s):\n",
    "    # Regular expression to find an array pattern\n",
    "    match = re.search(r'\\[(-?\\d+,\\s*)*(-?\\d+)\\]', s)\n",
    "    if match:\n",
    "        # Extracting the array string\n",
    "        array_str = match.group(0)\n",
    "        # Splitting the array string into elements\n",
    "        array_elements = array_str[1:-1].split(',')\n",
    "        return len(array_elements)\n",
    "    else:\n",
    "        return None"
   ]
  },
  {
   "cell_type": "code",
   "execution_count": 5,
   "id": "7729b119",
   "metadata": {},
   "outputs": [],
   "source": [
    "resampled_data=[]\n",
    "for prompt, dat in data.items():\n",
    "    if find_array_length(prompt) > 10 and random.random() < .9: continue\n",
    "    if find_array_length(prompt) > 16 and random.random() < (find_array_length(prompt)-16)/10+.25: continue\n",
    "    resampled_data.extend(resample_point('parity',(prompt, dat['sft_target'])))"
   ]
  },
  {
   "cell_type": "code",
   "execution_count": 6,
   "id": "1968230d",
   "metadata": {},
   "outputs": [
    {
     "data": {
      "image/png": "[encoded data removed]",
      "text/plain": [
       "<Figure size 432x288 with 1 Axes>"
      ]
     },
     "metadata": {
      "needs_background": "light"
     },
     "output_type": "display_data"
    }
   ],
   "source": [
    "lengths2=[]\n",
    "for point in resampled_data:\n",
    "    lengths2.append(find_array_length(point[0]))\n",
    "plt.hist(lengths2,bins=21)\n",
    "plt.show()"
   ]
  },
  {
   "cell_type": "code",
   "execution_count": 7,
   "id": "a387705e",
   "metadata": {},
   "outputs": [],
   "source": [
    "resampled_dataset=[]\n",
    "for point in resampled_data:\n",
    "    resampled_dataset.append({'input':point[0],'output':point[1]})"
   ]
  },
  {
   "cell_type": "code",
   "execution_count": 8,
   "id": "3dd797e6",
   "metadata": {},
   "outputs": [],
   "source": [
    "import json\n",
    "with open(\"recursive_parity_resampled_21_test.json\", \"w\") as f:\n",
    "    json.dump(resampled_dataset, f, indent=4)"
   ]
  },
  {
   "cell_type": "code",
   "execution_count": 9,
   "id": "7c5064a2",
   "metadata": {},
   "outputs": [
    {
     "name": "stdout",
     "output_type": "stream",
     "text": [
      "101912\n"
     ]
    }
   ],
   "source": [
    "# now generate non-recursive data\n",
    "import itertools\n",
    "\n",
    "def generate_binary_lists(n):\n",
    "    return [list(map(int, seq)) for seq in itertools.product(\"01\", repeat=n)]\n",
    "\n",
    "dataset=[]\n",
    "for list_len in range(1,22):\n",
    "    binary_lists = generate_binary_lists(list_len)\n",
    "    num_samples = min(15000,max(300, int(len(binary_lists) * 0.2)))\n",
    "    if num_samples>len(binary_lists):\n",
    "        selected_lists=binary_lists\n",
    "    else:\n",
    "        selected_lists = random.sample(binary_lists, num_samples)\n",
    "\n",
    "    for ls in selected_lists:\n",
    "        output = get_outputs_nonrec(ls)\n",
    "        dataset.append({'input':output[0],'output':output[1]})\n",
    "        \n",
    "print(len(dataset))\n",
    "        \n"
   ]
  },
  {
   "cell_type": "code",
   "execution_count": 10,
   "id": "d53872db",
   "metadata": {},
   "outputs": [
    {
     "name": "stderr",
     "output_type": "stream",
     "text": [
      "Processing data: 100%|█████████████| 101912/101912 [00:00<00:00, 1385489.74it/s]\n"
     ]
    }
   ],
   "source": [
    "from collections import defaultdict\n",
    "import tqdm\n",
    "data = defaultdict(lambda: defaultdict(list))\n",
    "for i, row in enumerate(tqdm.tqdm(dataset, desc=f'Processing data', disable=False)):\n",
    "    prompt = row['input']\n",
    "    data[prompt]['sft_target'] = row['output']"
   ]
  },
  {
   "cell_type": "code",
   "execution_count": 11,
   "id": "b7cfd238",
   "metadata": {},
   "outputs": [],
   "source": [
    "def parity_resampler(data_point):\n",
    "    if find_array_length(data_point[0]) == 1:\n",
    "        return [data_point]*60\n",
    "    if find_array_length(data_point[0]) == 2:\n",
    "        return [data_point]*60\n",
    "    if find_array_length(data_point[0]) == 3:\n",
    "        return [data_point]*60\n",
    "    if find_array_length(data_point[0]) == 4:\n",
    "        return [data_point]*20\n",
    "    if find_array_length(data_point[0]) < 10:\n",
    "        return [data_point]*10\n",
    "    if find_array_length(data_point[0]) < 15:\n",
    "        return [data_point]*4\n",
    "    return [data_point]\n",
    "\n",
    "def resample_point(resampler_str, data_point):\n",
    "    if resampler_str == 'parity':\n",
    "        return parity_resampler(data_point)\n",
    "    elif resampler_str == 'dp':\n",
    "        return dp_resampler(data_point)\n",
    "    elif resampler_str == 'addition':\n",
    "        return addition_resampler(data_point)\n",
    "    else: print('incorrect resampler string')\n",
    "\n",
    "def find_array_length(s):\n",
    "    # Regular expression to find an array pattern\n",
    "    match = re.search(r'\\[(-?\\d+,\\s*)*(-?\\d+)\\]', s)\n",
    "    if match:\n",
    "        # Extracting the array string\n",
    "        array_str = match.group(0)\n",
    "        # Splitting the array string into elements\n",
    "        array_elements = array_str[1:-1].split(',')\n",
    "        return len(array_elements)\n",
    "    else:\n",
    "        return None"
   ]
  },
  {
   "cell_type": "code",
   "execution_count": 12,
   "id": "bd0e36aa",
   "metadata": {},
   "outputs": [],
   "source": [
    "resampled_data=[]\n",
    "for prompt, dat in data.items():\n",
    "    #if find_array_length(prompt) > 10 and random.random() < .9: continue\n",
    "    resampled_data.extend(resample_point('parity',(prompt, dat['sft_target'])))"
   ]
  },
  {
   "cell_type": "code",
   "execution_count": 13,
   "id": "b01e394d",
   "metadata": {},
   "outputs": [
    {
     "data": {
      "image/png": "[encoded data removed]",
      "text/plain": [
       "<Figure size 432x288 with 1 Axes>"
      ]
     },
     "metadata": {
      "needs_background": "light"
     },
     "output_type": "display_data"
    }
   ],
   "source": [
    "lengths2=[]\n",
    "for point in resampled_data:\n",
    "    lengths2.append(find_array_length(point[0]))\n",
    "plt.hist(lengths2,bins=21)\n",
    "plt.show()"
   ]
  },
  {
   "cell_type": "code",
   "execution_count": 14,
   "id": "8d685a7e",
   "metadata": {},
   "outputs": [],
   "source": [
    "resampled_dataset=[]\n",
    "for point in resampled_data:\n",
    "    resampled_dataset.append({'input':point[0],'output':point[1]})"
   ]
  },
  {
   "cell_type": "code",
   "execution_count": 15,
   "id": "ebe474d1",
   "metadata": {},
   "outputs": [],
   "source": [
    "import json\n",
    "with open(\"nonrec_parity_resampled_21_test.json\", \"w\") as f:\n",
    "    json.dump(resampled_dataset, f, indent=4)"
   ]
  },
  {
   "cell_type": "code",
   "execution_count": null,
   "id": "5d897b20",
   "metadata": {},
   "outputs": [],
   "source": []
  }
 ],
 "metadata": {
  "kernelspec": {
   "display_name": "Python 3 (ipykernel)",
   "language": "python",
   "name": "python3"
  },
  "language_info": {
   "codemirror_mode": {
    "name": "ipython",
    "version": 3
   },
   "file_extension": ".py",
   "mimetype": "text/x-python",
   "name": "python",
   "nbconvert_exporter": "python",
   "pygments_lexer": "ipython3",
   "version": "3.10.12"
  }
 },
 "nbformat": 4,
 "nbformat_minor": 5
}
