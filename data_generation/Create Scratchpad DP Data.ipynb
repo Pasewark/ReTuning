{
 "cells": [
  {
   "cell_type": "code",
   "execution_count": 1,
   "id": "33627814",
   "metadata": {},
   "outputs": [
    {
     "name": "stdout",
     "output_type": "stream",
     "text": [
      "([1, 2, 2, 1, 2], [8, 7, 5, 5, 2], [True, False, True, True, False], 'Scratchpad: dp[4] = max(input[4], 0) = max(2, 0) = 2\\ndp[3] = max(input[3], input[4], 0) = max(5, 2, 0) = 5\\ndp[2] = max(dp[3], input[2] + dp[4], 0) = max(5, 1 + 2, 0) = 5\\ndp[1] = max(dp[2], input[1] + dp[3], 0) = max(5, 2 + 5, 0) = 7\\ndp[0] = max(dp[1], input[0] + dp[2], 0) = max(7, 3 + 5, 0) = 8\\n\\nFinally, we reconstruct the lexicographically smallest subsequence that fulfills the task objective by selecting numbers as follows. We store the result on a list named \"output\".\\n\\nLet can_use_next_item = True.\\nSince dp[0] == input[0] + dp[2] (8 == 3 + 5) and can_use_next_item == True, we store output[0] = 1. We update can_use_next_item = False.\\nSince dp[1] != input[1] + dp[3] (7 != 2 + 5) or can_use_next_item == False, we store output[1] = 2. We update can_use_next_item = True.\\nSince dp[2] != input[2] + dp[4] (5 != 1 + 2) or can_use_next_item == False, we store output[2] = 2. We update can_use_next_item = True.\\nSince dp[3] == input[3] (5 == 5) and can_use_next_item == True, we store output[3] = 1. We update can_use_next_item = False.\\nSince dp[4] != input[4] (2 != 2) or can_use_next_item == False, we store output[4] = 2.\\n\\nReconstructing all together, output=[1, 2, 2, 1, 2].')\n"
     ]
    }
   ],
   "source": [
    "def solution_text(arr):\n",
    "    text='Scratchpad: '\n",
    "    N = len(arr)\n",
    "    dp = [0 for _ in range(N)]\n",
    "    dp[N - 1] = max(arr[N - 1], 0)\n",
    "    text+=f'dp[{N-1}] = max(input[{N-1}], 0) = max({arr[N-1]}, 0) = {dp[N-1]}\\n'\n",
    "    dp[N - 2] = max(max(arr[N - 1], arr[N - 2]), 0)\n",
    "    text+=f'dp[{N-2}] = max(input[{N-2}], input[{N-1}], 0) = max({arr[N-2]}, {arr[N-1]}, 0) = {dp[N-2]}\\n'\n",
    "    for i in range(N - 3, -1, -1):\n",
    "        dp[i] = max(max(dp[i + 1], arr[i] + dp[i + 2]), 0)\n",
    "        text+=f'dp[{i}] = max(dp[{i+1}], input[{i}] + dp[{i+2}], 0) = max({dp[i+1]}, {arr[i]} + {dp[i+2]}, 0) = {dp[i]}\\n'\n",
    "        \n",
    "    text+='\\nFinally, we reconstruct the lexicographically smallest subsequence that fulfills the task objective by selecting numbers as follows. We store the result on a list named \"output\".\\n\\n'\n",
    "    text+='Let can_use_next_item = True.\\n'\n",
    "    \n",
    "    result = []\n",
    "    can_use_next_item_arr=[]\n",
    "    can_use_next_item = True\n",
    "    can_use_next_item_arr.append(True)\n",
    "    for i in range(N - 2):\n",
    "        if dp[i] == arr[i] + dp[i + 2] and can_use_next_item:\n",
    "            result.append(1)\n",
    "            can_use_next_item = False\n",
    "            can_use_next_item_arr.append(False)\n",
    "            text+=f'Since dp[{i}] == input[{i}] + dp[{i+2}] ({dp[i]} == {arr[i]} + {dp[i+2]}) and can_use_next_item == True, we store output[{i}] = 1. We update can_use_next_item = False.\\n'\n",
    "        else:\n",
    "            result.append(2)\n",
    "            can_use_next_item = True\n",
    "            can_use_next_item_arr.append(True)\n",
    "            text+=f'Since dp[{i}] != input[{i}] + dp[{i+2}] ({dp[i]} != {arr[i]} + {dp[i+2]}) or can_use_next_item == False, we store output[{i}] = 2. We update can_use_next_item = True.\\n'\n",
    "\n",
    "    if dp[N - 2] == arr[N - 2] and can_use_next_item:\n",
    "        result.append(1)\n",
    "        can_use_next_item = False\n",
    "        can_use_next_item_arr.append(False)\n",
    "        text+=f'Since dp[{N-2}] == input[{N-2}] ({dp[N-2]} == {arr[N-2]}) and can_use_next_item == True, we store output[{N-2}] = 1. We update can_use_next_item = False.\\n'\n",
    "    else:\n",
    "        result.append(2)\n",
    "        can_use_next_item = True\n",
    "        can_use_next_item_arr.append(True)\n",
    "        text+=f'Since dp[{N-2}] != input[{N-2}] ({dp[N-2]} != {arr[N-2]}) or can_use_next_item == False, we store output[{N-2}] = 2. We update can_use_next_item = True.\\n'\n",
    "\n",
    "    if dp[N - 1] == arr[N - 1] and can_use_next_item:\n",
    "        result.append(1)\n",
    "        text+=f'Since dp[{N-1}] == input[{N-1}] ({dp[N-1]} == {arr[N-1]}) and can_use_next_item == True, we store output[{N-1}] = 1.\\n'\n",
    "    else:\n",
    "        result.append(2)\n",
    "        text+=f'Since dp[{N-1}] != input[{N-1}] ({dp[N-1]} != {arr[N-1]}) or can_use_next_item == False, we store output[{N-1}] = 2.\\n'\n",
    "        \n",
    "    text+=f'\\nReconstructing all together, output={result}.'\n",
    "\n",
    "    return result,dp,can_use_next_item_arr,text\n",
    "\n",
    "outs=solution_text([3,2,1,5,2])\n",
    "print(outs)\n"
   ]
  },
  {
   "cell_type": "code",
   "execution_count": 2,
   "id": "b5c35db3",
   "metadata": {},
   "outputs": [
    {
     "name": "stdout",
     "output_type": "stream",
     "text": [
      "121\n",
      "1331\n",
      "14641\n",
      "161051\n",
      "177144\n"
     ]
    }
   ],
   "source": [
    "import itertools\n",
    "\n",
    "def generate_lists(length):\n",
    "    numbers = range(-5, 6)  # Integers from -5 to 5 inclusive.\n",
    "    # Convert tuples to lists.\n",
    "    return [list(item) for item in itertools.product(numbers, repeat=length)]\n",
    "\n",
    "dataset=[]\n",
    "\n",
    "for list_length in range(2,6):\n",
    "    samples=generate_lists(list_length)\n",
    "    #if list_length==4:samples=random.sample(samples,5000)\n",
    "    #if list_length==5:samples=random.sample(samples,9000)\n",
    "    \n",
    "    print(len(samples))\n",
    "    for arr in samples:\n",
    "        inp=f\"Question: Let's solve input = {arr}.\"\n",
    "        output=solution_text(arr)[-1]\n",
    "        dataset.append({\"input\": inp, \"output\": output})\n",
    "\n",
    "print(len(dataset))"
   ]
  },
  {
   "cell_type": "code",
   "execution_count": 3,
   "id": "70bb96d6",
   "metadata": {},
   "outputs": [],
   "source": [
    "import re\n",
    "import random\n",
    "def find_array_length(s):\n",
    "    # Regular expression to find an array pattern\n",
    "    match = re.search(r'\\[(-?\\d+,\\s*)*(-?\\d+)\\]', s)\n",
    "    if match:\n",
    "        # Extracting the array string\n",
    "        array_str = match.group(0)\n",
    "        # Splitting the array string into elements\n",
    "        array_elements = array_str[1:-1].split(',')\n",
    "        return len(array_elements)\n",
    "    else:\n",
    "        return None"
   ]
  },
  {
   "cell_type": "code",
   "execution_count": 4,
   "id": "84e23ee4",
   "metadata": {},
   "outputs": [],
   "source": [
    "resampled_data=[]\n",
    "for dat in dataset:\n",
    "    prompt=dat['input']\n",
    "    if find_array_length(prompt)==2:\n",
    "        resampled_data.extend([dat]*100)\n",
    "        continue\n",
    "    if find_array_length(prompt)==3:\n",
    "        resampled_data.extend([dat]*10)\n",
    "        continue\n",
    "    if find_array_length(prompt)==4:\n",
    "        resampled_data.extend([dat]*3)\n",
    "        continue\n",
    "    resampled_data.append(dat)"
   ]
  },
  {
   "cell_type": "code",
   "execution_count": 5,
   "id": "2b481bef",
   "metadata": {},
   "outputs": [
    {
     "data": {
      "image/png": "[encoded data removed]",
      "text/plain": [
       "<Figure size 432x288 with 1 Axes>"
      ]
     },
     "metadata": {
      "needs_background": "light"
     },
     "output_type": "display_data"
    }
   ],
   "source": [
    "import matplotlib.pyplot as plt\n",
    "lengths2=[]\n",
    "for point in resampled_data:\n",
    "    lengths2.append(find_array_length(point['input']))\n",
    "plt.hist(lengths2)\n",
    "plt.show()"
   ]
  },
  {
   "cell_type": "code",
   "execution_count": 7,
   "id": "3bd927d8",
   "metadata": {},
   "outputs": [],
   "source": [
    "import json\n",
    "with open(\"nonrec_dp_resampled_test.json\", \"w\") as f:\n",
    "    json.dump(resampled_data, f, indent=4)"
   ]
  },
  {
   "cell_type": "code",
   "execution_count": null,
   "id": "1d751827",
   "metadata": {},
   "outputs": [],
   "source": []
  }
 ],
 "metadata": {
  "kernelspec": {
   "display_name": "Python 3 (ipykernel)",
   "language": "python",
   "name": "python3"
  },
  "language_info": {
   "codemirror_mode": {
    "name": "ipython",
    "version": 3
   },
   "file_extension": ".py",
   "mimetype": "text/x-python",
   "name": "python",
   "nbconvert_exporter": "python",
   "pygments_lexer": "ipython3",
   "version": "3.10.12"
  }
 },
 "nbformat": 4,
 "nbformat_minor": 5
}
