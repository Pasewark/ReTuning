{
 "cells": [
  {
   "cell_type": "code",
   "execution_count": 1,
   "id": "70a6c806-312f-469e-9cd7-755fb07fcd3b",
   "metadata": {},
   "outputs": [],
   "source": [
    "prompt: str = \"What is the parity of {}?\\nAnswer: \"\n"
   ]
  },
  {
   "cell_type": "code",
   "execution_count": 2,
   "id": "4a2051c6-dd92-4447-98aa-eec4f3531762",
   "metadata": {},
   "outputs": [],
   "source": [
    "import itertools\n",
    "import random\n",
    "\n",
    "def generate_binary_lists(n):\n",
    "    return [list(map(int, seq)) for seq in itertools.product(\"01\", repeat=n)]\n",
    "\n",
    "dataset=[]\n",
    "\n",
    "for list_len in range(1,22):\n",
    "    binary_lists = generate_binary_lists(list_len)\n",
    "    num_samples = min(15000,max(300, int(len(binary_lists) * 0.2)))\n",
    "    if num_samples>len(binary_lists):\n",
    "        selected_lists=binary_lists\n",
    "    else:\n",
    "        selected_lists = random.sample(binary_lists, num_samples)\n",
    "\n",
    "    for ls in selected_lists:\n",
    "        output = str(ls.count(1)%2)\n",
    "        dataset.append(\n",
    "            {'input':prompt.format(ls), \n",
    "            'output':output})"
   ]
  },
  {
   "cell_type": "code",
   "execution_count": 3,
   "id": "f4d71772-40b7-4215-a813-a7086b2d64b1",
   "metadata": {},
   "outputs": [],
   "source": [
    "import re\n",
    "\n",
    "def find_array_length(s):\n",
    "    # Regular expression to find an array pattern\n",
    "    match = re.search(r'\\[(-?\\d+,\\s*)*(-?\\d+)\\]', s)\n",
    "    if match:\n",
    "        # Extracting the array string\n",
    "        array_str = match.group(0)\n",
    "        # Splitting the array string into elements\n",
    "        array_elements = array_str[1:-1].split(',')\n",
    "        return len(array_elements)\n",
    "    else:\n",
    "        return None\n",
    "\n",
    "def parity_resampler(data_point):\n",
    "    prompt = data_point['input']\n",
    "    if find_array_length(prompt) == 1:\n",
    "        return [data_point]*300\n",
    "    if find_array_length(prompt) == 2:\n",
    "        return [data_point]*500\n",
    "    if find_array_length(prompt) == 3:\n",
    "        return [data_point]*300\n",
    "    if find_array_length(prompt) == 4:\n",
    "        return [data_point]*200\n",
    "    if find_array_length(prompt) == 5:\n",
    "        return [data_point]*120\n",
    "    if find_array_length(prompt) == 6:\n",
    "        return [data_point]*50\n",
    "    if find_array_length(prompt) == 7:\n",
    "        return [data_point]*30\n",
    "    if find_array_length(prompt) < 10:\n",
    "        return [data_point]*10\n",
    "    if find_array_length(prompt) < 15:\n",
    "        return [data_point]*4\n",
    "    return [data_point]"
   ]
  },
  {
   "cell_type": "code",
   "execution_count": 4,
   "id": "5406cacd-b45b-4a49-86ef-936bc6bb7a0d",
   "metadata": {},
   "outputs": [],
   "source": [
    "resampled_data = []\n",
    "for entry in dataset:\n",
    "    resampled_data.extend(parity_resampler(entry))\n",
    "\n",
    "random.shuffle(resampled_data)"
   ]
  },
  {
   "cell_type": "code",
   "execution_count": 5,
   "id": "efdc2af2-066b-4ebb-9f4b-83f4977c075e",
   "metadata": {},
   "outputs": [],
   "source": [
    "import json\n",
    "with open(\"baseline_parity.json\", \"w\") as f:\n",
    "    json.dump(resampled_data, f, indent=4)"
   ]
  },
  {
   "cell_type": "code",
   "execution_count": null,
   "id": "d1da70c8-8874-44be-b988-1c0800a6549b",
   "metadata": {},
   "outputs": [],
   "source": []
  }
 ],
 "metadata": {
  "kernelspec": {
   "display_name": "Python 3 (ipykernel)",
   "language": "python",
   "name": "python3"
  },
  "language_info": {
   "codemirror_mode": {
    "name": "ipython",
    "version": 3
   },
   "file_extension": ".py",
   "mimetype": "text/x-python",
   "name": "python",
   "nbconvert_exporter": "python",
   "pygments_lexer": "ipython3",
   "version": "3.10.12"
  }
 },
 "nbformat": 4,
 "nbformat_minor": 5
}
