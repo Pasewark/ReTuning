{
 "cells": [
  {
   "cell_type": "code",
   "execution_count": 2,
   "id": "f0c9501c",
   "metadata": {},
   "outputs": [
    {
     "data": {
      "text/plain": [
       "False"
      ]
     },
     "execution_count": 2,
     "metadata": {},
     "output_type": "execute_result"
    }
   ],
   "source": [
    "def maximum_sum_nonadjacent_subsequence(arr):\n",
    "    N = len(arr)\n",
    "    dp = [0 for _ in range(N)]\n",
    "    dp[N - 1] = max(arr[N - 1], 0)\n",
    "    dp[N - 2] = max(max(arr[N - 1], arr[N - 2]), 0)\n",
    "    for i in range(N - 3, -1, -1):\n",
    "        dp[i] = max(max(dp[i + 1], arr[i] + dp[i + 2]), 0)\n",
    "\n",
    "    result = []\n",
    "    can_use_next_item_arr=[]\n",
    "    can_use_next_item = True\n",
    "    can_use_next_item_arr.append(True)\n",
    "    for i in range(N - 2):\n",
    "        if dp[i] == arr[i] + dp[i + 2] and can_use_next_item:\n",
    "            result.append(1)\n",
    "            can_use_next_item = False\n",
    "            can_use_next_item_arr.append(False)\n",
    "        else:\n",
    "            result.append(2)\n",
    "            can_use_next_item = True\n",
    "            can_use_next_item_arr.append(True)\n",
    "\n",
    "    if dp[N - 2] == arr[N - 2] and can_use_next_item:\n",
    "        result.append(1)\n",
    "        can_use_next_item = False\n",
    "        can_use_next_item_arr.append(False)\n",
    "    else:\n",
    "        result.append(2)\n",
    "        can_use_next_item = True\n",
    "        can_use_next_item_arr.append(True)\n",
    "\n",
    "    if dp[N - 1] == arr[N - 1] and can_use_next_item:\n",
    "        result.append(1)\n",
    "    else:\n",
    "        result.append(2)\n",
    "\n",
    "    return result,dp,can_use_next_item_arr\n",
    "\n",
    "\n",
    "def top_outputs(arr,result,dp):\n",
    "    prompt_template1='Compute the maximum sum of nonadjacent subsequences of {}\\nSolution: '\n",
    "    output_template1='Call: Create dp array {}\\n'\n",
    "    prompt_template2='Compute the maximum sum of nonadjacent subsequences of {}\\nSolution: Call: Create dp array {}\\nReturn: {}\\nAnswer: '\n",
    "    output_template2='Call: Create chosen indices array: sum array {}, item array {}, can use item True\\n'\n",
    "    ret1=(prompt_template1.format(str(arr)),output_template1.format(str(arr)))\n",
    "    ret2=(prompt_template2.format(str(arr),str(arr),str(dp)),output_template2.format(str(dp),str(arr)))\n",
    "    return[ret1,ret2]\n",
    "    \n",
    "# if this doesn't work, could add explicit computation of sum and max\n",
    "# so after the return dp[i+1:], also have max(dp[i+1],arr[i]+dp[i+2])=x then output x+dp[i+1:]\n",
    "def dp_outputs_prev(arr,dp):\n",
    "    prompt_template1='Create dp array {}\\nSolution: '\n",
    "    output_template1='Call: Create dp array {}\\n'\n",
    "    prompt_template2='Create dp array {}\\nSolution: Call: Create dp array {}\\nReturn: {}\\nAnswer: '\n",
    "    output_template2='{}'\n",
    "    rets=[]\n",
    "    for i in range(len(dp)-1):\n",
    "        rets.append((prompt_template1.format(str(arr[i:])),output_template1.format(str(arr[i+1:]))))\n",
    "        rets.append((prompt_template2.format(str(arr[i:]),str(arr[i+1:]),str(dp[i+1:])),output_template2.format(str(dp[i:]))))\n",
    "    rets.append((prompt_template1.format(str(arr[-1:])),output_template2.format(str(dp[-1:]))))\n",
    "    return rets\n",
    "\n",
    "def dp_outputs(arr,dp):\n",
    "    prompt_template1='Create dp array {}\\nSolution: '\n",
    "    output_template1='Call with array minus first element. Call: Create dp array {}\\n'\n",
    "    prompt_template2='Create dp array {}\\nSolution: Call with array minus first element. Call: Create dp array {}\\nReturn: {}\\nAnswer: '\n",
    "    output_template2='Append max(return[0], array[0] + return[1]) to return.\\nAnswer: {}'\n",
    "    output_template3='Return [0] if negative else element.\\nAnswer: {}'\n",
    "    rets=[]\n",
    "    for i in range(len(dp)-1):\n",
    "        rets.append((prompt_template1.format(str(arr[i:])),output_template1.format(str(arr[i+1:]))))\n",
    "        rets.append((prompt_template2.format(str(arr[i:]),str(arr[i+1:]),str(dp[i+1:])),output_template2.format(str(dp[i:]))))\n",
    "    rets.append((prompt_template1.format(str(arr[-1:])),output_template3.format(str(dp[-1:]))))\n",
    "    return rets\n",
    "    \n",
    "# since the current answer doesn't depend on call\n",
    "# we could have it first output the current computation, then do the call, then concat\n",
    "# so Solution: [1 or 2], Call: ... Return: arr Answer: [1 or 2] plus arr\n",
    "# just in case it gets confused on what computation it is suppose to do\n",
    "def indices_outputs_prev(arr,result,dp,can_use_next_item_arr):\n",
    "    prompt_template1='Create chosen indices {} {} {}\\nSolution: '\n",
    "    output_template1='Call: Create chosen indices {} {} {}\\n'\n",
    "    prompt_template2='Return {}\\nAnswer: '\n",
    "    rets=[]\n",
    "    # don't think we need separate case for n-2 index, but check to make sure\n",
    "    for i in range(len(arr)-1):\n",
    "        formatted_prompt1=prompt_template1.format(str(dp[i:]),str(arr[i:]),can_use_next_item_arr[i])\n",
    "        formatted_output1=output_template1.format(str(dp[i+1:]),str(arr[i+1:]),can_use_next_item_arr[i+1])\n",
    "        formatted_prompt2=formatted_prompt1+formatted_output1+prompt_template2.format(str(result[i+1:]))\n",
    "        formatted_output2=str(result[i:])\n",
    "        rets.append((formatted_prompt1,formatted_output1))\n",
    "        rets.append((formatted_prompt2,formatted_output2))\n",
    "    formatted_prompt1=prompt_template1.format(str(dp[-1:]),str(arr[-1:]),can_use_next_item_arr[-1])\n",
    "    formatted_output=str(result[-1:])\n",
    "    rets.append((formatted_prompt1,formatted_output))\n",
    "    return rets\n",
    "    \n",
    "def indices_outputs(arr,result,dp,can_use_next_item_arr):\n",
    "    call_template='Create chosen indices array: sum array {}, item array {}, can use item {}\\n'\n",
    "    pre_output_template='If there is only 1 item, return 1 if we should use it else 2.'\n",
    "    prompt_template1=call_template+'Solution: '\n",
    "    output_template1=pre_output_template+' If we should use the first item to get the sum, call False else True. Call: '+call_template\n",
    "    prompt_template2='Return {}\\nAnswer: '\n",
    "    output_template2='Append 1 if False else 2.\\nAnswer: {}'\n",
    "    output_template3=pre_output_template+'\\nAnswer: {}'\n",
    "    \n",
    "    rets=[]\n",
    "    # don't think we need separate case for n-2 index, but check to make sure\n",
    "    for i in range(len(arr)-1):\n",
    "        formatted_prompt1=prompt_template1.format(str(dp[i:]),str(arr[i:]),can_use_next_item_arr[i])\n",
    "        formatted_output1=output_template1.format(str(dp[i+1:]),str(arr[i+1:]),can_use_next_item_arr[i+1])\n",
    "        formatted_prompt2=formatted_prompt1+formatted_output1+prompt_template2.format(str(result[i+1:]))\n",
    "        formatted_output2=output_template2.format(str(result[i:]))\n",
    "        rets.append((formatted_prompt1,formatted_output1))\n",
    "        rets.append((formatted_prompt2,formatted_output2))\n",
    "    formatted_prompt1=prompt_template1.format(str(dp[-1:]),str(arr[-1:]),can_use_next_item_arr[-1])\n",
    "    formatted_output=output_template3.format(str(result[-1:]))\n",
    "    rets.append((formatted_prompt1,formatted_output))\n",
    "    return rets\n",
    "\n",
    "def indices_outputs_new(arr,result,dp,can_use_next_item_arr):\n",
    "    call_template='Create chosen indices array: sum array {}, item array {}, can use item {}\\n'\n",
    "    pre_output_template='If there is only 1 item, return 1 if we should use it else 2.'\n",
    "    prompt_template1=call_template+'Solution: '\n",
    "    output_template1=pre_output_template+' If sum[0] = item[0] + sum[2] and can use, call False else True on arrays without first item. Call: '+call_template\n",
    "    prompt_template2='Return {}\\nAnswer: '\n",
    "    output_template2='Append 1 if False else 2.\\nAnswer: {}'\n",
    "    output_template3=pre_output_template+'\\nAnswer: {}'\n",
    "    \n",
    "    rets=[]\n",
    "    # don't think we need separate case for n-2 index, but check to make sure\n",
    "    for i in range(len(arr)-1):\n",
    "        formatted_prompt1=prompt_template1.format(str(dp[i:]),str(arr[i:]),can_use_next_item_arr[i])\n",
    "        formatted_output1=output_template1.format(str(dp[i+1:]),str(arr[i+1:]),can_use_next_item_arr[i+1])\n",
    "        formatted_prompt2=formatted_prompt1+formatted_output1+prompt_template2.format(str(result[i+1:]))\n",
    "        formatted_output2=output_template2.format(str(result[i:]))\n",
    "        rets.append((formatted_prompt1,formatted_output1))\n",
    "        rets.append((formatted_prompt2,formatted_output2))\n",
    "    formatted_prompt1=prompt_template1.format(str(dp[-1:]),str(arr[-1:]),can_use_next_item_arr[-1])\n",
    "    formatted_output=output_template3.format(str(result[-1:]))\n",
    "    rets.append((formatted_prompt1,formatted_output))\n",
    "    return rets\n",
    "\n",
    "import re\n",
    "def check_bracketed_string(input_string):\n",
    "    # The regular expression pattern '[.]' means \"any character between square brackets\"\n",
    "    pattern = r'\\[.\\]'\n",
    "    if re.search(pattern, input_string):\n",
    "        return True\n",
    "    else:\n",
    "        return False\n",
    "    \n",
    "check_bracketed_string('[   ]')"
   ]
  },
  {
   "cell_type": "code",
   "execution_count": 3,
   "id": "47163842",
   "metadata": {},
   "outputs": [
    {
     "name": "stdout",
     "output_type": "stream",
     "text": [
      "121\n",
      "1331\n",
      "14641\n",
      "161051\n",
      "3472216\n"
     ]
    }
   ],
   "source": [
    "import itertools\n",
    "\n",
    "def generate_lists(length):\n",
    "    numbers = range(-5, 6)  # Integers from -5 to 5 inclusive.\n",
    "    # Convert tuples to lists.\n",
    "    return [list(item) for item in itertools.product(numbers, repeat=length)]\n",
    "\n",
    "dataset=[]\n",
    "\n",
    "for list_length in range(2,6):\n",
    "    samples=generate_lists(list_length)\n",
    "    #if list_length==4:samples=random.sample(samples,5000)\n",
    "    #if list_length==5:samples=random.sample(samples,9000)\n",
    "    \n",
    "    print(len(samples))\n",
    "    for arr in samples:\n",
    "        result,dp,can_use_next_item_arr=maximum_sum_nonadjacent_subsequence(arr)\n",
    "        outputs=top_outputs(arr,result,dp)\n",
    "        outputs.extend(dp_outputs(arr,dp))\n",
    "        outputs.extend(indices_outputs(arr,result,dp,can_use_next_item_arr))\n",
    "        for output in outputs:\n",
    "            dataset.append({\"input\": output[0], \"output\": output[1]})\n",
    "\n",
    "print(len(dataset))"
   ]
  },
  {
   "cell_type": "code",
   "execution_count": 4,
   "id": "644d8fd1",
   "metadata": {},
   "outputs": [
    {
     "name": "stderr",
     "output_type": "stream",
     "text": [
      "Processing data: 100%|███████████| 3472216/3472216 [00:02<00:00, 1200988.55it/s]\n"
     ]
    }
   ],
   "source": [
    "from collections import defaultdict\n",
    "import tqdm\n",
    "data = defaultdict(lambda: defaultdict(list))\n",
    "for i, row in enumerate(tqdm.tqdm(dataset, desc=f'Processing data', disable=False)):\n",
    "    prompt = row['input']\n",
    "    data[prompt]['sft_target'] = row['output']"
   ]
  },
  {
   "cell_type": "code",
   "execution_count": 5,
   "id": "e298ea65",
   "metadata": {},
   "outputs": [],
   "source": [
    "import re\n",
    "import matplotlib.pyplot as plt\n",
    "import random\n",
    "\n",
    "def dp_resampler(data_point):\n",
    "    if find_array_length(data_point[0]) == 1:\n",
    "        return [data_point]*250\n",
    "    if find_array_length(data_point[0]) == 2:\n",
    "        return [data_point]*30\n",
    "    if find_array_length(data_point[0]) == 3:\n",
    "        return [data_point]*4\n",
    "    return [data_point]\n",
    "\n",
    "def resample_point(resampler_str, data_point):\n",
    "    if resampler_str == 'parity':\n",
    "        return parity_resampler(data_point)\n",
    "    elif resampler_str == 'dp':\n",
    "        return dp_resampler(data_point)\n",
    "    elif resampler_str == 'addition':\n",
    "        return addition_resampler(data_point)\n",
    "    else: print('incorrect resampler string')\n",
    "\n",
    "def find_array_length(s):\n",
    "    # Regular expression to find an array pattern\n",
    "    match = re.search(r'\\[(-?\\d+,\\s*)*(-?\\d+)\\]', s)\n",
    "    if match:\n",
    "        # Extracting the array string\n",
    "        array_str = match.group(0)\n",
    "        # Splitting the array string into elements\n",
    "        array_elements = array_str[1:-1].split(',')\n",
    "        return len(array_elements)\n",
    "    else:\n",
    "        return None"
   ]
  },
  {
   "cell_type": "code",
   "execution_count": 6,
   "id": "fe743bda",
   "metadata": {},
   "outputs": [],
   "source": [
    "resampled_data=[]\n",
    "for prompt, dat in data.items():\n",
    "    if find_array_length(prompt)==5 and random.random() < .85: continue\n",
    "    resampled_data.extend(resample_point('dp',(prompt, dat['sft_target'])))"
   ]
  },
  {
   "cell_type": "code",
   "execution_count": 7,
   "id": "6aaa20d3",
   "metadata": {},
   "outputs": [
    {
     "data": {
      "image/png": "[encoded data removed]",
      "text/plain": [
       "<Figure size 432x288 with 1 Axes>"
      ]
     },
     "metadata": {
      "needs_background": "light"
     },
     "output_type": "display_data"
    }
   ],
   "source": [
    "lengths2=[]\n",
    "for point in resampled_data:\n",
    "    lengths2.append(find_array_length(point[0]))\n",
    "plt.hist(lengths2)\n",
    "plt.show()"
   ]
  },
  {
   "cell_type": "code",
   "execution_count": 8,
   "id": "fad0c472",
   "metadata": {},
   "outputs": [],
   "source": [
    "resampled_dataset=[]\n",
    "for point in resampled_data:\n",
    "    resampled_dataset.append({'input':point[0],'output':point[1]})"
   ]
  },
  {
   "cell_type": "code",
   "execution_count": 9,
   "id": "3a7d738c",
   "metadata": {},
   "outputs": [],
   "source": [
    "import json\n",
    "with open(\"recursive_dp_resampled_test.json\", \"w\") as f:\n",
    "    json.dump(resampled_dataset, f, indent=4)"
   ]
  },
  {
   "cell_type": "code",
   "execution_count": null,
   "id": "308ed546",
   "metadata": {},
   "outputs": [],
   "source": []
  }
 ],
 "metadata": {
  "kernelspec": {
   "display_name": "Python 3 (ipykernel)",
   "language": "python",
   "name": "python3"
  },
  "language_info": {
   "codemirror_mode": {
    "name": "ipython",
    "version": 3
   },
   "file_extension": ".py",
   "mimetype": "text/x-python",
   "name": "python",
   "nbconvert_exporter": "python",
   "pygments_lexer": "ipython3",
   "version": "3.10.12"
  }
 },
 "nbformat": 4,
 "nbformat_minor": 5
}
