{
 "cells": [
  {
   "cell_type": "code",
   "execution_count": 2,
   "metadata": {},
   "outputs": [],
   "source": [
    "prompt: str = \"What is the parity of {}?\\nAnswer: \""
   ]
  },
  {
   "cell_type": "code",
   "execution_count": 6,
   "metadata": {},
   "outputs": [],
   "source": [
    "import itertools\n",
    "import random\n",
    "\n",
    "def generate_binary_lists(n):\n",
    "    return [list(map(int, seq)) for seq in itertools.product(\"01\", repeat=n)]\n",
    "\n",
    "dataset=[]\n",
    "\n",
    "for list_len in range(1,22):\n",
    "    binary_lists = generate_binary_lists(list_len)\n",
    "    num_samples = min(15000,max(300, int(len(binary_lists) * 0.2)))\n",
    "    if num_samples>len(binary_lists):\n",
    "        selected_lists=binary_lists\n",
    "    else:\n",
    "        selected_lists = random.sample(binary_lists, num_samples)\n",
    "\n",
    "    for ls in selected_lists:\n",
    "        output = str(ls.count(1)%2)\n",
    "        dataset.append(\n",
    "            {'input':prompt.format(ls), \n",
    "            'output':output})"
   ]
  },
  {
   "cell_type": "code",
   "execution_count": 9,
   "metadata": {},
   "outputs": [],
   "source": [
    "import re\n",
    "\n",
    "def find_array_length(s):\n",
    "    # Regular expression to find an array pattern\n",
    "    match = re.search(r'\\[(-?\\d+,\\s*)*(-?\\d+)\\]', s)\n",
    "    if match:\n",
    "        # Extracting the array string\n",
    "        array_str = match.group(0)\n",
    "        # Splitting the array string into elements\n",
    "        array_elements = array_str[1:-1].split(',')\n",
    "        return len(array_elements)\n",
    "    else:\n",
    "        return None\n",
    "\n",
    "def parity_resampler(data_point):\n",
    "    prompt = data_point['input']\n",
    "    if find_array_length(prompt) == 1:\n",
    "        return [data_point]*60\n",
    "    if find_array_length(prompt) == 2:\n",
    "        return [data_point]*60\n",
    "    if find_array_length(prompt) == 3:\n",
    "        return [data_point]*60\n",
    "    if find_array_length(prompt) == 4:\n",
    "        return [data_point]*20\n",
    "    if find_array_length(prompt) < 10:\n",
    "        return [data_point]*10\n",
    "    if find_array_length(prompt) < 15:\n",
    "        return [data_point]*4\n",
    "    return [data_point]"
   ]
  },
  {
   "cell_type": "code",
   "execution_count": 11,
   "metadata": {},
   "outputs": [],
   "source": [
    "resampled_data = []\n",
    "for entry in dataset:\n",
    "    resampled_data.extend(parity_resampler(entry))\n",
    "\n",
    "random.shuffle(resampled_data)"
   ]
  },
  {
   "cell_type": "code",
   "execution_count": 13,
   "metadata": {},
   "outputs": [],
   "source": [
    "import json\n",
    "with open(\"baseline_parity.json\", \"w\") as f:\n",
    "    json.dump(resampled_data, f, indent=4)"
   ]
  }
 ],
 "metadata": {
  "kernelspec": {
   "display_name": "cse217a",
   "language": "python",
   "name": "python3"
  },
  "language_info": {
   "codemirror_mode": {
    "name": "ipython",
    "version": 3
   },
   "file_extension": ".py",
   "mimetype": "text/x-python",
   "name": "python",
   "nbconvert_exporter": "python",
   "pygments_lexer": "ipython3",
   "version": "3.10.12"
  }
 },
 "nbformat": 4,
 "nbformat_minor": 2
}
