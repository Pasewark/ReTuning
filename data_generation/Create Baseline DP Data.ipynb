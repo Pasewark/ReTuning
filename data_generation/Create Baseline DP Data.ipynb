{
 "cells": [
  {
   "cell_type": "code",
   "execution_count": 3,
   "metadata": {},
   "outputs": [],
   "source": [
    "def maximum_sum_nonadjacent_subsequence(arr):\n",
    "    \n",
    "    N = len(arr)\n",
    "    dp = [0 for _ in range(N)]\n",
    "    \n",
    "    dp[N - 1] = max(arr[N - 1], 0)\n",
    "    dp[N - 2] = max(max(arr[N - 1], arr[N - 2]), 0)\n",
    "    \n",
    "    for i in range(N - 3, -1, -1):\n",
    "        dp[i] = max(max(dp[i + 1], arr[i] + dp[i + 2]), 0)\n",
    "\n",
    "    result = []\n",
    "    can_use_next_item = True\n",
    "    \n",
    "    for i in range(N - 2):\n",
    "        if dp[i] == arr[i] + dp[i + 2] and can_use_next_item:\n",
    "            result.append(1)\n",
    "            can_use_next_item = False\n",
    "        else:\n",
    "            result.append(2)\n",
    "            can_use_next_item = True\n",
    "\n",
    "    if dp[N - 2] == arr[N - 2] and can_use_next_item:\n",
    "        result.append(1)\n",
    "        can_use_next_item = False\n",
    "    else:\n",
    "        result.append(2)\n",
    "        can_use_next_item = True\n",
    "\n",
    "    if dp[N - 1] == arr[N - 1] and can_use_next_item:\n",
    "        result.append(1)\n",
    "    else:\n",
    "        result.append(2)\n",
    "\n",
    "    return result"
   ]
  },
  {
   "cell_type": "code",
   "execution_count": 10,
   "metadata": {},
   "outputs": [],
   "source": [
    "prompt: str = 'Given a sequence of integers, find a subsequence with the highest sum, such that no two numbers in the subsequence are adjacent in the original sequence.\\n\\nOutput a list with \"1\" for chosen numbers and \"2\" for unchosen ones. If multiple solutions exist, select the lexicographically smallest. Input = {}.\\nAnswer: '"
   ]
  },
  {
   "cell_type": "code",
   "execution_count": 13,
   "metadata": {},
   "outputs": [],
   "source": [
    "import itertools\n",
    "\n",
    "def generate_lists(length):\n",
    "    numbers = range(-5, 6)  # Integers from -5 to 5 inclusive.\n",
    "    return [list(item) for item in itertools.product(numbers, repeat=length)]\n",
    "\n",
    "dataset=[]\n",
    "\n",
    "for list_length in range(2,6):\n",
    "    \n",
    "    samples=generate_lists(list_length)\n",
    "    \n",
    "    for arr in samples:\n",
    "        inp=prompt.format(arr)\n",
    "        output=maximum_sum_nonadjacent_subsequence(arr)\n",
    "        dataset.append({\n",
    "            \"input\": inp,\n",
    "            \"output\": \"{}\".format(output),\n",
    "        })\n"
   ]
  },
  {
   "cell_type": "code",
   "execution_count": 14,
   "metadata": {},
   "outputs": [],
   "source": [
    "import re\n",
    "import random\n",
    "def find_array_length(s):\n",
    "    # Regular expression to find an array pattern\n",
    "    match = re.search(r'\\[(-?\\d+,\\s*)*(-?\\d+)\\]', s)\n",
    "    if match:\n",
    "        # Extracting the array string\n",
    "        array_str = match.group(0)\n",
    "        # Splitting the array string into elements\n",
    "        array_elements = array_str[1:-1].split(',')\n",
    "        return len(array_elements)\n",
    "    else:\n",
    "        return None"
   ]
  },
  {
   "cell_type": "code",
   "execution_count": 17,
   "metadata": {},
   "outputs": [],
   "source": [
    "resampled_data=[]\n",
    "for dat in dataset:\n",
    "    prompt=dat['input']\n",
    "    if find_array_length(prompt)==2:\n",
    "        resampled_data.extend([dat]*100)\n",
    "        continue\n",
    "    if find_array_length(prompt)==3:\n",
    "        resampled_data.extend([dat]*10)\n",
    "        continue\n",
    "    if find_array_length(prompt)==4:\n",
    "        resampled_data.extend([dat]*3)\n",
    "        continue\n",
    "    resampled_data.append(dat)\n",
    "    \n",
    "random.shuffle(resampled_data)"
   ]
  },
  {
   "cell_type": "code",
   "execution_count": 18,
   "metadata": {},
   "outputs": [],
   "source": [
    "import json\n",
    "with open(\"baseline_dp.json\", \"w\") as f:\n",
    "    json.dump(resampled_data, f, indent=4)"
   ]
  }
 ],
 "metadata": {
  "kernelspec": {
   "display_name": "cse217a",
   "language": "python",
   "name": "python3"
  },
  "language_info": {
   "codemirror_mode": {
    "name": "ipython",
    "version": 3
   },
   "file_extension": ".py",
   "mimetype": "text/x-python",
   "name": "python",
   "nbconvert_exporter": "python",
   "pygments_lexer": "ipython3",
   "version": "3.10.12"
  }
 },
 "nbformat": 4,
 "nbformat_minor": 2
}
