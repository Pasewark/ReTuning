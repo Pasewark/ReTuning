{
 "cells": [
  {
   "cell_type": "code",
   "execution_count": null,
   "id": "21901a1d",
   "metadata": {},
   "outputs": [],
   "source": [
    "import sys\n",
    "sys.path.append('..')\n",
    "\n",
    "from preference_datasets import get_batch_iterator\n",
    "import torch\n",
    "from transformers import AutoTokenizer, AutoModelForCausalLM\n",
    "from peft import PeftModel, PeftConfig\n",
    "import datasets\n",
    "import matplotlib.pyplot as plt\n",
    "import random"
   ]
  },
  {
   "cell_type": "code",
   "execution_count": null,
   "id": "855a35b2",
   "metadata": {},
   "outputs": [],
   "source": [
    "lora_dir='PATH TO LORA WEIGHTS HERE'\n",
    "\n",
    "model = AutoModelForCausalLM.from_pretrained('huggyllama/llama-7b',torch_dtype=torch.float16,device_map='auto')\n",
    "model = PeftModel.from_pretrained(model, lora_dir)\n",
    "\n",
    "tokenizer = AutoTokenizer.from_pretrained(\"huggyllama/llama-7b\")\n",
    "if tokenizer.pad_token_id is None:\n",
    "    tokenizer.pad_token_id = tokenizer.eos_token_id"
   ]
  },
  {
   "cell_type": "code",
   "execution_count": null,
   "id": "9b5283cf",
   "metadata": {},
   "outputs": [],
   "source": [
    "def maximum_sum_nonadjacent_subsequence(arr):\n",
    "    N = len(arr)\n",
    "    dp = [0 for _ in range(N)]\n",
    "    dp[N - 1] = max(arr[N - 1], 0)\n",
    "    dp[N - 2] = max(max(arr[N - 1], arr[N - 2]), 0)\n",
    "    for i in range(N - 3, -1, -1):\n",
    "        dp[i] = max(max(dp[i + 1], arr[i] + dp[i + 2]), 0)\n",
    "\n",
    "    result = []\n",
    "    can_use_next_item_arr=[]\n",
    "    can_use_next_item = True\n",
    "    can_use_next_item_arr.append(True)\n",
    "    for i in range(N - 2):\n",
    "        if dp[i] == arr[i] + dp[i + 2] and can_use_next_item:\n",
    "            result.append(1)\n",
    "            can_use_next_item = False\n",
    "            can_use_next_item_arr.append(False)\n",
    "        else:\n",
    "            result.append(2)\n",
    "            can_use_next_item = True\n",
    "            can_use_next_item_arr.append(True)\n",
    "\n",
    "    if dp[N - 2] == arr[N - 2] and can_use_next_item:\n",
    "        result.append(1)\n",
    "        can_use_next_item = False\n",
    "        can_use_next_item_arr.append(False)\n",
    "    else:\n",
    "        result.append(2)\n",
    "        can_use_next_item = True\n",
    "        can_use_next_item_arr.append(True)\n",
    "\n",
    "    if dp[N - 1] == arr[N - 1] and can_use_next_item:\n",
    "        result.append(1)\n",
    "    else:\n",
    "        result.append(2)\n",
    "\n",
    "    return result,dp,can_use_next_item_arr\n",
    "\n",
    "def generate_from_prompt(model,prompt,tokenizer,max_length,temperature):\n",
    "    input_tok=tokenizer(prompt,add_special_tokens=False)\n",
    "    input_ids=torch.LongTensor(input_tok['input_ids']).cuda()\n",
    "    attention_mask=torch.LongTensor(input_tok['attention_mask']).cuda()\n",
    "    tokenized_samples = model.generate(\n",
    "        input_ids=input_ids,\n",
    "        attention_mask=attention_mask,\n",
    "        max_length=max_length, \n",
    "        do_sample=True, \n",
    "        temperature=temperature, \n",
    "        pad_token_id=tokenizer.pad_token_id\n",
    "    )\n",
    "    return tokenizer.batch_decode(tokenized_samples,skip_special_tokens=True)\n",
    "\n",
    "def generate_random_list(length):\n",
    "    return [random.randint(-5, 5) for _ in range(length)]\n"
   ]
  },
  {
   "cell_type": "code",
   "execution_count": null,
   "id": "af4b04ab",
   "metadata": {},
   "outputs": [],
   "source": [
    "results_dict={}\n",
    "batch_size=5\n",
    "prompt_template=\"Question: Let's solve input = {}.\"\n",
    "for list_len in range(2,15):\n",
    "    num_right=0\n",
    "    for _ in range(4):\n",
    "        arrs=[generate_random_list(list_len) for _ in range(batch_size)]\n",
    "        true_out=[maximum_sum_nonadjacent_subsequence(arr) for arr in arrs]\n",
    "        out=generate_from_prompt(model,[prompt_template.format(str(arr)) for arr in arrs],tokenizer,2048,temperature=.01)\n",
    "        sols=[out_str.split('=')[-1][:-1] for out_str in out]\n",
    "        num_right+=[sols[i]==str(true_out[i][0]) for i in range(len(sols))].count(True)\n",
    "\n",
    "    results_dict[list_len]=num_right\n",
    "print(results_dict)\n"
   ]
  },
  {
   "cell_type": "code",
   "execution_count": null,
   "id": "79879d2f",
   "metadata": {},
   "outputs": [],
   "source": []
  }
 ],
 "metadata": {
  "kernelspec": {
   "display_name": "Python 3 (ipykernel)",
   "language": "python",
   "name": "python3"
  },
  "language_info": {
   "codemirror_mode": {
    "name": "ipython",
    "version": 3
   },
   "file_extension": ".py",
   "mimetype": "text/x-python",
   "name": "python",
   "nbconvert_exporter": "python",
   "pygments_lexer": "ipython3",
   "version": "3.10.12"
  }
 },
 "nbformat": 4,
 "nbformat_minor": 5
}
