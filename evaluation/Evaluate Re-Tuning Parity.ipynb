{
 "cells": [
  {
   "cell_type": "code",
   "execution_count": null,
   "id": "21901a1d",
   "metadata": {},
   "outputs": [],
   "source": [
    "import sys\n",
    "sys.path.append('..')\n",
    "\n",
    "from preference_datasets import get_batch_iterator\n",
    "import torch\n",
    "from transformers import AutoTokenizer, AutoModelForCausalLM\n",
    "from peft import PeftModel, PeftConfig\n",
    "import datasets\n",
    "import matplotlib.pyplot as plt\n",
    "import random"
   ]
  },
  {
   "cell_type": "code",
   "execution_count": null,
   "id": "855a35b2",
   "metadata": {},
   "outputs": [],
   "source": [
    "lora_dir='PATH TO LORA WEIGHTS HERE'\n",
    "\n",
    "model = AutoModelForCausalLM.from_pretrained('huggyllama/llama-7b',torch_dtype=torch.float16,device_map='auto')\n",
    "model = PeftModel.from_pretrained(model, lora_dir)\n",
    "\n",
    "tokenizer = AutoTokenizer.from_pretrained(\"huggyllama/llama-7b\")\n",
    "if tokenizer.pad_token_id is None:\n",
    "    tokenizer.pad_token_id = tokenizer.eos_token_id"
   ]
  },
  {
   "cell_type": "code",
   "execution_count": null,
   "id": "9b5283cf",
   "metadata": {},
   "outputs": [],
   "source": [
    "def generate_from_prompt(model,prompt,tokenizer,max_length,temperature):\n",
    "    input_tok=tokenizer(prompt,add_special_tokens=False)\n",
    "    input_ids=torch.LongTensor(input_tok['input_ids']).cuda()\n",
    "    attention_mask=torch.LongTensor(input_tok['attention_mask']).cuda()\n",
    "    tokenized_samples = model.generate(\n",
    "        input_ids=input_ids,\n",
    "        attention_mask=attention_mask,\n",
    "        max_length=2048, \n",
    "        do_sample=True, \n",
    "        temperature=.6, \n",
    "        pad_token_id=tokenizer.pad_token_id\n",
    "    )\n",
    "    return tokenizer.batch_decode(tokenized_samples,skip_special_tokens=True)\n",
    "\n",
    "def recursive_generate(model,input_string,tokenizer,max_length,temperature,max_rec=30,current_rec=0):\n",
    "    num_calls=0 # keep looping until num_calls is equal to number of \"Call\" in sample\n",
    "    sample=generate_from_prompt(model,input_string,tokenizer,max_length,temperature)\n",
    "    \n",
    "    if current_rec>=max_rec:\n",
    "        print('exceeded max recursion')\n",
    "        return sample,True\n",
    "    while sample[0].count('Call: ')>num_calls:\n",
    "        num_calls+=1\n",
    "        call=sample[0].split('Call: ')[-1] # get the latest call\n",
    "        if '\\n' in call:\n",
    "            call=call.split('\\n')[0]+'\\nSolution: '\n",
    "            call_ret,exceed_rec=recursive_generate(model,[call],tokenizer,max_length,temperature,max_rec,current_rec+1)\n",
    "            if exceed_rec:return sample,True\n",
    "        else:\n",
    "            print('bad call')\n",
    "            return sample,True\n",
    "        call_out=call_ret[0].split(' ')[-1]\n",
    "        new_prompt=(sample[0]+'Return: '+call_out+'\\nAnswer: ').replace('  ',' ')\n",
    "        sample=generate_from_prompt(model,[new_prompt],tokenizer,max_length,temperature)\n",
    "    return sample,False\n",
    "\n",
    "def generate_binary_list(n):\n",
    "    binary_list = [random.choice([0, 1]) for _ in range(n)]\n",
    "    return binary_list\n"
   ]
  },
  {
   "cell_type": "code",
   "execution_count": null,
   "id": "750f1555",
   "metadata": {},
   "outputs": [],
   "source": [
    "prompt_template='What is the parity of {}?\\nSolution: '\n",
    "res_dict={}\n",
    "eval_lengths=range(2,30)\n",
    "for length in eval_lengths:\n",
    "    num_right=0\n",
    "    for _ in range(5):\n",
    "        arr=generate_binary_list(length)\n",
    "        out,exceed=recursive_generate(model,[prompt_template.format(arr)],tokenizer,max_length=512,temperature=.01,max_rec=2*len(arr))\n",
    "        if out[0].split(' ')[-1]==str(arr.count(1)%2):num_right+=1\n",
    "    res_dict[length]=num_right\n",
    "print(res_dict)"
   ]
  },
  {
   "cell_type": "code",
   "execution_count": null,
   "id": "4ff6e42a",
   "metadata": {},
   "outputs": [],
   "source": []
  }
 ],
 "metadata": {
  "kernelspec": {
   "display_name": "Python 3 (ipykernel)",
   "language": "python",
   "name": "python3"
  },
  "language_info": {
   "codemirror_mode": {
    "name": "ipython",
    "version": 3
   },
   "file_extension": ".py",
   "mimetype": "text/x-python",
   "name": "python",
   "nbconvert_exporter": "python",
   "pygments_lexer": "ipython3",
   "version": "3.10.12"
  }
 },
 "nbformat": 4,
 "nbformat_minor": 5
}
