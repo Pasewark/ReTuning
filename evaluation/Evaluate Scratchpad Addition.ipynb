{
 "cells": [
  {
   "cell_type": "code",
   "execution_count": null,
   "id": "21901a1d",
   "metadata": {},
   "outputs": [],
   "source": [
    "import sys\n",
    "sys.path.append('..')\n",
    "\n",
    "from preference_datasets import get_batch_iterator\n",
    "import torch\n",
    "from transformers import AutoTokenizer, AutoModelForCausalLM\n",
    "from peft import PeftModel, PeftConfig\n",
    "import datasets\n",
    "import matplotlib.pyplot as plt\n",
    "import random"
   ]
  },
  {
   "cell_type": "code",
   "execution_count": null,
   "id": "855a35b2",
   "metadata": {},
   "outputs": [],
   "source": [
    "lora_dir='PATH TO LORA WEIGHTS HERE'\n",
    "\n",
    "model = AutoModelForCausalLM.from_pretrained('huggyllama/llama-7b',torch_dtype=torch.float16,device_map='auto')\n",
    "model = PeftModel.from_pretrained(model, lora_dir)\n",
    "\n",
    "tokenizer = AutoTokenizer.from_pretrained(\"huggyllama/llama-7b\")\n",
    "if tokenizer.pad_token_id is None:\n",
    "    tokenizer.pad_token_id = tokenizer.eos_token_id"
   ]
  },
  {
   "cell_type": "code",
   "execution_count": null,
   "id": "db87fe23",
   "metadata": {},
   "outputs": [],
   "source": [
    "def generate_from_prompt(model,prompt,tokenizer,max_length,temperature):\n",
    "    input_tok=tokenizer(prompt,add_special_tokens=False)\n",
    "    input_ids=torch.LongTensor(input_tok['input_ids']).cuda()\n",
    "    attention_mask=torch.LongTensor(input_tok['attention_mask']).cuda()\n",
    "    tokenized_samples = model.generate(\n",
    "        input_ids=input_ids,\n",
    "        attention_mask=attention_mask,\n",
    "        max_length=2048, \n",
    "        do_sample=True, \n",
    "        temperature=.6, \n",
    "        pad_token_id=tokenizer.pad_token_id\n",
    "    )\n",
    "    return tokenizer.batch_decode(tokenized_samples,skip_special_tokens=True)\n"
   ]
  },
  {
   "cell_type": "code",
   "execution_count": null,
   "id": "0a9b8778",
   "metadata": {},
   "outputs": [],
   "source": [
    "samples_with_solutions={}\n",
    "eval_lengths=range(2,5)\n",
    "for num_digits in eval_lengths:\n",
    "    print(num_digits)\n",
    "    samples_with_solutions[num_digits]=[]\n",
    "    for _ in range(4):\n",
    "        a=random.randint(10**(num_digits-1),10**num_digits-1)\n",
    "        b=random.randint(10**(num_digits-1),10**num_digits-1)\n",
    "        sample=generate_from_prompt(model,[f'{a} + {b}\\nSolution: '],tokenizer,max_length=2048,temperature=.01)\n",
    "        samples_with_solutions[num_digits].append((sample,str(a+b),a,b))"
   ]
  },
  {
   "cell_type": "code",
   "execution_count": null,
   "id": "564eafdd",
   "metadata": {},
   "outputs": [],
   "source": [
    "accs=[]\n",
    "for num_digits in eval_lengths:\n",
    "    num_right=0\n",
    "    total=0\n",
    "    correct_arr=[]\n",
    "    incorrect_arr=[]\n",
    "    for sample in samples_with_solutions[num_digits]:\n",
    "        total+=1\n",
    "        sample_arr=sample[0][0].split(' ')\n",
    "        carr=sample_arr[-3][:-1]\n",
    "        output=sample_arr[-1]\n",
    "        if carr=='1': num_str=carr+output\n",
    "        else: num_str=output\n",
    "        if num_str==sample[1]:\n",
    "            num_right+=1\n",
    "            correct_arr.append(sample)\n",
    "        else:incorrect_arr.append(sample)\n",
    "    print(num_digits, num_right/total)\n",
    "    accs.append(num_right/total)\n",
    "plt.plot(accs)\n",
    "plt.show()"
   ]
  }
 ],
 "metadata": {
  "kernelspec": {
   "display_name": "Python 3 (ipykernel)",
   "language": "python",
   "name": "python3"
  },
  "language_info": {
   "codemirror_mode": {
    "name": "ipython",
    "version": 3
   },
   "file_extension": ".py",
   "mimetype": "text/x-python",
   "name": "python",
   "nbconvert_exporter": "python",
   "pygments_lexer": "ipython3",
   "version": "3.10.12"
  }
 },
 "nbformat": 4,
 "nbformat_minor": 5
}
